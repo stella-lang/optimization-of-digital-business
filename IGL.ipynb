{
 "cells": [
  {
   "cell_type": "code",
   "execution_count": 86,
   "metadata": {
    "collapsed": true
   },
   "outputs": [],
   "source": [
    "library(ggplot2)"
   ]
  },
  {
   "cell_type": "code",
   "execution_count": 73,
   "metadata": {
    "collapsed": false
   },
   "outputs": [],
   "source": [
    "mydata = read.csv(\"1130.csv\")"
   ]
  },
  {
   "cell_type": "code",
   "execution_count": 199,
   "metadata": {
    "collapsed": false,
    "scrolled": false
   },
   "outputs": [
    {
     "data": {
      "text/html": [
       "<table>\n",
       "<thead><tr><th scope=col>intent</th><th scope=col>device</th><th scope=col>clicks</th><th scope=col>convclicks</th><th scope=col>cost</th><th scope=col>conversion.per.click</th><th scope=col>privacy.mail</th><th scope=col>conservative.mail</th><th scope=col>conservative</th><th scope=col>privacy</th><th scope=col>targeted</th><th scope=col>unknown</th><th scope=col>conservative.and.privacy</th><th scope=col>Desktop</th><th scope=col>Mobile</th><th scope=col>Tablet</th></tr></thead>\n",
       "<tbody>\n",
       "\t<tr><td>privacy-mail     </td><td>Tablet           </td><td>1                </td><td>0                </td><td>2.4              </td><td>0                </td><td>1                </td><td>0                </td><td>0                </td><td>0                </td><td>0                </td><td>0                </td><td>0                </td><td>0                </td><td>0                </td><td>1                </td></tr>\n",
       "\t<tr><td>conservative-mail</td><td>Mobile           </td><td>0                </td><td>0                </td><td>0.0              </td><td>0                </td><td>0                </td><td>1                </td><td>0                </td><td>0                </td><td>0                </td><td>0                </td><td>0                </td><td>0                </td><td>1                </td><td>0                </td></tr>\n",
       "\t<tr><td>privacy-mail     </td><td>Mobile           </td><td>0                </td><td>0                </td><td>0.0              </td><td>0                </td><td>1                </td><td>0                </td><td>0                </td><td>0                </td><td>0                </td><td>0                </td><td>0                </td><td>0                </td><td>1                </td><td>0                </td></tr>\n",
       "\t<tr><td>conservative     </td><td>Mobile           </td><td>0                </td><td>0                </td><td>0.0              </td><td>0                </td><td>0                </td><td>0                </td><td>1                </td><td>0                </td><td>0                </td><td>0                </td><td>0                </td><td>0                </td><td>1                </td><td>0                </td></tr>\n",
       "\t<tr><td>conservative     </td><td>Desktop          </td><td>0                </td><td>0                </td><td>0.0              </td><td>0                </td><td>0                </td><td>0                </td><td>1                </td><td>0                </td><td>0                </td><td>0                </td><td>0                </td><td>1                </td><td>0                </td><td>0                </td></tr>\n",
       "</tbody>\n",
       "</table>\n"
      ],
      "text/latex": [
       "\\begin{tabular}{r|llllllllllllllll}\n",
       " intent & device & clicks & convclicks & cost & conversion.per.click & privacy.mail & conservative.mail & conservative & privacy & targeted & unknown & conservative.and.privacy & Desktop & Mobile & Tablet\\\\\n",
       "\\hline\n",
       "\t privacy-mail      & Tablet            & 1                 & 0                 & 2.4               & 0                 & 1                 & 0                 & 0                 & 0                 & 0                 & 0                 & 0                 & 0                 & 0                 & 1                \\\\\n",
       "\t conservative-mail & Mobile            & 0                 & 0                 & 0.0               & 0                 & 0                 & 1                 & 0                 & 0                 & 0                 & 0                 & 0                 & 0                 & 1                 & 0                \\\\\n",
       "\t privacy-mail      & Mobile            & 0                 & 0                 & 0.0               & 0                 & 1                 & 0                 & 0                 & 0                 & 0                 & 0                 & 0                 & 0                 & 1                 & 0                \\\\\n",
       "\t conservative      & Mobile            & 0                 & 0                 & 0.0               & 0                 & 0                 & 0                 & 1                 & 0                 & 0                 & 0                 & 0                 & 0                 & 1                 & 0                \\\\\n",
       "\t conservative      & Desktop           & 0                 & 0                 & 0.0               & 0                 & 0                 & 0                 & 1                 & 0                 & 0                 & 0                 & 0                 & 1                 & 0                 & 0                \\\\\n",
       "\\end{tabular}\n"
      ],
      "text/plain": [
       "  intent            device  clicks convclicks cost conversion.per.click\n",
       "1 privacy-mail      Tablet  1      0          2.4  0                   \n",
       "2 conservative-mail Mobile  0      0          0.0  0                   \n",
       "3 privacy-mail      Mobile  0      0          0.0  0                   \n",
       "4 conservative      Mobile  0      0          0.0  0                   \n",
       "5 conservative      Desktop 0      0          0.0  0                   \n",
       "  privacy.mail conservative.mail conservative privacy targeted unknown\n",
       "1 1            0                 0            0       0        0      \n",
       "2 0            1                 0            0       0        0      \n",
       "3 1            0                 0            0       0        0      \n",
       "4 0            0                 1            0       0        0      \n",
       "5 0            0                 1            0       0        0      \n",
       "  conservative.and.privacy Desktop Mobile Tablet\n",
       "1 0                        0       0      1     \n",
       "2 0                        0       1      0     \n",
       "3 0                        0       1      0     \n",
       "4 0                        0       1      0     \n",
       "5 0                        1       0      0     "
      ]
     },
     "metadata": {},
     "output_type": "display_data"
    },
    {
     "name": "stdout",
     "output_type": "stream",
     "text": [
      "[1] \"Total number of clicks\"\n"
     ]
    },
    {
     "data": {
      "text/html": [
       "323004"
      ],
      "text/latex": [
       "323004"
      ],
      "text/markdown": [
       "323004"
      ],
      "text/plain": [
       "[1] 323004"
      ]
     },
     "metadata": {},
     "output_type": "display_data"
    },
    {
     "name": "stdout",
     "output_type": "stream",
     "text": [
      "[1] \"Total number of converted clicks\"\n"
     ]
    },
    {
     "data": {
      "text/html": [
       "4339"
      ],
      "text/latex": [
       "4339"
      ],
      "text/markdown": [
       "4339"
      ],
      "text/plain": [
       "[1] 4339"
      ]
     },
     "metadata": {},
     "output_type": "display_data"
    },
    {
     "name": "stdout",
     "output_type": "stream",
     "text": [
      "[1] \"Conversion per click\"\n"
     ]
    },
    {
     "data": {
      "text/html": [
       "0.0104997786381086"
      ],
      "text/latex": [
       "0.0104997786381086"
      ],
      "text/markdown": [
       "0.0104997786381086"
      ],
      "text/plain": [
       "[1] 0.01049978"
      ]
     },
     "metadata": {},
     "output_type": "display_data"
    }
   ],
   "source": [
    "#Take a look of data\n",
    "head(mydata,n = 5)\n",
    "print (\"Total number of clicks\")\n",
    "sum(clicks)\n",
    "print (\"Total number of converted clicks\")\n",
    "sum(convclicks)\n",
    "print (\"Conversion per click\")\n",
    "mean(conversion.per.click)"
   ]
  },
  {
   "cell_type": "markdown",
   "metadata": {},
   "source": [
    "#### Exploratory Data Analysis"
   ]
  },
  {
   "cell_type": "code",
   "execution_count": 104,
   "metadata": {
    "collapsed": false,
    "scrolled": true
   },
   "outputs": [
    {
     "data": {
      "text/plain": [
       "intent\n",
       "            conservative        conservative-mail conservative and privacy \n",
       "             0.441119274              0.207216940              0.007850763 \n",
       "                 privacy             privacy-mail                 targeted \n",
       "             0.002484875              0.044943820              0.166810717 \n",
       "                 unknown \n",
       "             0.129573610 "
      ]
     },
     "metadata": {},
     "output_type": "display_data"
    },
    {
     "data": {
      "text/plain": [
       "device\n",
       "  Desktop    Mobile    Tablet \n",
       "0.4636632 0.2930712 0.2432656 "
      ]
     },
     "metadata": {},
     "output_type": "display_data"
    }
   ],
   "source": [
    "#Fraction of conversion per click by intent and device\n",
    "tab = with(mydata,table(intent))\n",
    "tab/sum(tab)\n",
    "tab2 = with(mydata,table(device))\n",
    "tab2/sum(tab2)"
   ]
  },
  {
   "cell_type": "code",
   "execution_count": 213,
   "metadata": {
    "collapsed": false
   },
   "outputs": [
    {
     "name": "stdout",
     "output_type": "stream",
     "text": [
      "[1] \"conversion per click of Desktop is: \"\n"
     ]
    },
    {
     "data": {
      "text/html": [
       "0.0145257037944078"
      ],
      "text/latex": [
       "0.0145257037944078"
      ],
      "text/markdown": [
       "0.0145257037944078"
      ],
      "text/plain": [
       "[1] 0.0145257"
      ]
     },
     "metadata": {},
     "output_type": "display_data"
    },
    {
     "name": "stdout",
     "output_type": "stream",
     "text": [
      "[1] \"conversion per click of Tablet is: \"\n"
     ]
    },
    {
     "data": {
      "text/html": [
       "0.0084902491061436"
      ],
      "text/latex": [
       "0.0084902491061436"
      ],
      "text/markdown": [
       "0.0084902491061436"
      ],
      "text/plain": [
       "[1] 0.008490249"
      ]
     },
     "metadata": {},
     "output_type": "display_data"
    },
    {
     "name": "stdout",
     "output_type": "stream",
     "text": [
      "[1] \"conversion per click of Mobile terminal is: \"\n"
     ]
    },
    {
     "data": {
      "text/html": [
       "0.00579844976136643"
      ],
      "text/latex": [
       "0.00579844976136643"
      ],
      "text/markdown": [
       "0.00579844976136643"
      ],
      "text/plain": [
       "[1] 0.00579845"
      ]
     },
     "metadata": {},
     "output_type": "display_data"
    }
   ],
   "source": [
    "#Group the conversion per click by device and calculate the average\n",
    " \n",
    "print (\"conversion per click of Desktop is: \")\n",
    "mean(mydata[which(mydata[,2]==\"Desktop\"),6])\n",
    "print (\"conversion per click of Tablet is: \")\n",
    "mean(mydata[which(mydata[,2]==\"Tablet\"),6])\n",
    "print (\"conversion per click of Mobile terminal is: \")\n",
    "mean(mydata[which(mydata[,2]==\"Mobile\"),6])"
   ]
  },
  {
   "cell_type": "code",
   "execution_count": 212,
   "metadata": {
    "collapsed": false,
    "scrolled": false
   },
   "outputs": [
    {
     "data": {},
     "metadata": {},
     "output_type": "display_data"
    },
    {
     "data": {
      "image/png": "[encoded data removed]",
      "text/plain": [
       "plot without title"
      ]
     },
     "metadata": {},
     "output_type": "display_data"
    }
   ],
   "source": [
    "ggplot(mydata, aes(x = device, y = conversion.per.click))+geom_boxplot()"
   ]
  },
  {
   "cell_type": "code",
   "execution_count": 89,
   "metadata": {
    "collapsed": false
   },
   "outputs": [
    {
     "data": {},
     "metadata": {},
     "output_type": "display_data"
    },
    {
     "data": {
      "image/png": "[encoded data removed]",
      "text/plain": [
       "plot without title"
      ]
     },
     "metadata": {},
     "output_type": "display_data"
    }
   ],
   "source": [
    "ggplot(mydata, aes(x = intent, y = conversion.per.click)) + geom_boxplot()"
   ]
  },
  {
   "cell_type": "code",
   "execution_count": 140,
   "metadata": {
    "collapsed": false
   },
   "outputs": [
    {
     "name": "stdout",
     "output_type": "stream",
     "text": [
      "[1] \"conversion per click of privacy-mail is: \"\n"
     ]
    },
    {
     "data": {
      "text/html": [
       "0.00309238147435897"
      ],
      "text/latex": [
       "0.00309238147435897"
      ],
      "text/markdown": [
       "0.00309238147435897"
      ],
      "text/plain": [
       "[1] 0.003092381"
      ]
     },
     "metadata": {},
     "output_type": "display_data"
    },
    {
     "name": "stdout",
     "output_type": "stream",
     "text": [
      "[1] \"conversion per click of conservative-mail is: \"\n"
     ]
    },
    {
     "data": {
      "text/html": [
       "0.0251090208032673"
      ],
      "text/latex": [
       "0.0251090208032673"
      ],
      "text/markdown": [
       "0.0251090208032673"
      ],
      "text/plain": [
       "[1] 0.02510902"
      ]
     },
     "metadata": {},
     "output_type": "display_data"
    },
    {
     "name": "stdout",
     "output_type": "stream",
     "text": [
      "[1] \"conversion per click of conservative is: \"\n"
     ]
    },
    {
     "data": {
      "text/html": [
       "0.00461132459474243"
      ],
      "text/latex": [
       "0.00461132459474243"
      ],
      "text/markdown": [
       "0.00461132459474243"
      ],
      "text/plain": [
       "[1] 0.004611325"
      ]
     },
     "metadata": {},
     "output_type": "display_data"
    },
    {
     "name": "stdout",
     "output_type": "stream",
     "text": [
      "[1] \"conversion per click of privacy is: \"\n"
     ]
    },
    {
     "data": {
      "text/html": [
       "0"
      ],
      "text/latex": [
       "0"
      ],
      "text/markdown": [
       "0"
      ],
      "text/plain": [
       "[1] 0"
      ]
     },
     "metadata": {},
     "output_type": "display_data"
    },
    {
     "name": "stdout",
     "output_type": "stream",
     "text": [
      "[1] \"conversion per click of targeted is: \"\n"
     ]
    },
    {
     "data": {
      "text/html": [
       "0.0130598071131261"
      ],
      "text/latex": [
       "0.0130598071131261"
      ],
      "text/markdown": [
       "0.0130598071131261"
      ],
      "text/plain": [
       "[1] 0.01305981"
      ]
     },
     "metadata": {},
     "output_type": "display_data"
    },
    {
     "name": "stdout",
     "output_type": "stream",
     "text": [
      "[1] \"conversion per click of unknown is: \"\n"
     ]
    },
    {
     "data": {
      "text/html": [
       "0.00601559586770428"
      ],
      "text/latex": [
       "0.00601559586770428"
      ],
      "text/markdown": [
       "0.00601559586770428"
      ],
      "text/plain": [
       "[1] 0.006015596"
      ]
     },
     "metadata": {},
     "output_type": "display_data"
    },
    {
     "name": "stdout",
     "output_type": "stream",
     "text": [
      "[1] \"conversion per click of conservative.and.privacy is: \"\n"
     ]
    },
    {
     "data": {
      "text/html": [
       "0.0211009174311927"
      ],
      "text/latex": [
       "0.0211009174311927"
      ],
      "text/markdown": [
       "0.0211009174311927"
      ],
      "text/plain": [
       "[1] 0.02110092"
      ]
     },
     "metadata": {},
     "output_type": "display_data"
    }
   ],
   "source": [
    "#Group the conversion per click my intent and calculate the average\n",
    "print (\"conversion per click of privacy-mail is: \")\n",
    "mean(mydata[which(mydata[,1]==\"privacy-mail\"),6])\n",
    "\n",
    "print (\"conversion per click of conservative-mail is: \")\n",
    "mean(mydata[which(mydata[,1]==\"conservative-mail\"),6])\n",
    "\n",
    "print (\"conversion per click of conservative is: \")\n",
    "mean(mydata[which(mydata[,1]==\"conservative\"),6])\n",
    "\n",
    "print (\"conversion per click of privacy is: \")\n",
    "mean(mydata[which(mydata[,1]==\"privacy\"),6])\n",
    "\n",
    "print (\"conversion per click of targeted is: \")\n",
    "mean(mydata[which(mydata[,1]==\"targeted\"),6])\n",
    "\n",
    "print (\"conversion per click of unknown is: \")\n",
    "mean(mydata[which(mydata[,1]==\"unknown\"),6])\n",
    "\n",
    "print (\"conversion per click of conservative.and.privacy is: \")\n",
    "mean(mydata[which(mydata[,1]==\"conservative and privacy\"),6])"
   ]
  },
  {
   "cell_type": "code",
   "execution_count": 197,
   "metadata": {
    "collapsed": false
   },
   "outputs": [],
   "source": [
    "clist <- c(\"Desktop\", \"Tablet\",\"Mobile\")\n",
    "rlist <- c(\"privacy-mail\",\"conservative-mail\",\"conservative\",\"privacy\",\"targeted\",\"unknown\",\"conservative and privacy\")\n",
    "mean_mat = matrix(ncol = 3, nrow = 7)\n",
    "median_mat = matrix(ncol = 3, nrow = 7)\n",
    "c = 0\n",
    "for (i in clist) \n",
    "{\n",
    "    \n",
    "    c = c + 1\n",
    "    r = 0\n",
    "    for (j in rlist)\n",
    "    {       \n",
    "        r = r + 1\n",
    "        mean_mat[r,c] = mean(mydata[which(mydata[,1] == j & mydata[,2] == i),6])\n",
    "        median_mat[r,c] = median(mydata[which(mydata[,1] == j & mydata[,2] == i),6])\n",
    "    }\n",
    "}"
   ]
  },
  {
   "cell_type": "code",
   "execution_count": 191,
   "metadata": {
    "collapsed": false
   },
   "outputs": [
    {
     "data": {
      "text/plain": [
       "                              Desktop       Tablet       Mobile\n",
       "privacy-mail             0.0050851572 0.0005431831 0.0016929134\n",
       "conservative-mail        0.0338409407 0.0218683783 0.0138118797\n",
       "conservative             0.0073973090 0.0020782664 0.0020323673\n",
       "privacy                  0.0000000000 0.0000000000 0.0000000000\n",
       "targeted                 0.0157508319 0.0143446598 0.0086046895\n",
       "unknown                  0.0093330341 0.0050278135 0.0020313757\n",
       "conservative and privacy 0.0307017544 0.0000000000 0.0161764706"
      ]
     },
     "metadata": {},
     "output_type": "display_data"
    }
   ],
   "source": [
    "mean_tab <- as.table(mean_mat)\n",
    "colnames(mean_tab) <- c(\"Desktop\", \"Tablet\",\"Mobile\")\n",
    "rownames(mean_tab) <- c(\"privacy-mail\",\"conservative-mail\",\"conservative\",\"privacy\",\"targeted\",\"unknown\",\"conservative and privacy\")\n",
    "mean_tab"
   ]
  },
  {
   "cell_type": "code",
   "execution_count": 198,
   "metadata": {
    "collapsed": false
   },
   "outputs": [
    {
     "data": {
      "text/plain": [
       "                         Desktop Tablet Mobile\n",
       "privacy-mail                   0      0      0\n",
       "conservative-mail              0      0      0\n",
       "conservative                   0      0      0\n",
       "privacy                        0      0      0\n",
       "targeted                       0      0      0\n",
       "unknown                        0      0      0\n",
       "conservative and privacy       0      0      0"
      ]
     },
     "metadata": {},
     "output_type": "display_data"
    }
   ],
   "source": [
    "median_tab <- as.table(median_mat)\n",
    "colnames(median_tab) <- c(\"Desktop\", \"Tablet\",\"Mobile\")\n",
    "rownames(median_tab) <- c(\"privacy-mail\",\"conservative-mail\",\"conservative\",\"privacy\",\"targeted\",\"unknown\",\"conservative and privacy\")\n",
    "median_tab"
   ]
  }
 ],
 "metadata": {
  "kernelspec": {
   "display_name": "R",
   "language": "R",
   "name": "ir"
  },
  "language_info": {
   "codemirror_mode": "r",
   "file_extension": ".r",
   "mimetype": "text/x-r-source",
   "name": "R",
   "pygments_lexer": "r",
   "version": "3.3.1"
  }
 },
 "nbformat": 4,
 "nbformat_minor": 1
}
